{
  "nbformat": 4,
  "nbformat_minor": 0,
  "metadata": {
    "colab": {
      "name": "GANde.ipynb",
      "version": "0.3.2",
      "provenance": [],
      "collapsed_sections": [],
      "include_colab_link": true
    },
    "kernelspec": {
      "name": "python3",
      "display_name": "Python 3"
    },
    "accelerator": "GPU"
  },
  "cells": [
    {
      "cell_type": "markdown",
      "metadata": {
        "id": "view-in-github",
        "colab_type": "text"
      },
      "source": [
        "<a href=\"https://colab.research.google.com/github/susan-shu-c/GANde/blob/master/GANde.ipynb\" target=\"_parent\"><img src=\"https://colab.research.google.com/assets/colab-badge.svg\" alt=\"Open In Colab\"/></a>"
      ]
    },
    {
      "cell_type": "code",
      "metadata": {
        "id": "a6Omuon2d-wL",
        "colab_type": "code",
        "colab": {}
      },
      "source": [
        "from keras.preprocessing.image import ImageDataGenerator\n",
        "\n",
        "import matplotlib.pyplot as plt\n",
        "\n",
        "import tensorboardcolab\n",
        "\n",
        "# tbc = TensorBoardColab()"
      ],
      "execution_count": 0,
      "outputs": []
    },
    {
      "cell_type": "code",
      "metadata": {
        "id": "2Ehl4IRwf5va",
        "colab_type": "code",
        "colab": {}
      },
      "source": [
        "# from google.colab import drive\n",
        "# drive.mount('/content/gdrive')"
      ],
      "execution_count": 0,
      "outputs": []
    },
    {
      "cell_type": "code",
      "metadata": {
        "id": "ad1fbOeCgFJk",
        "colab_type": "code",
        "colab": {}
      },
      "source": [
        "# !ls \"/content/gdrive/My Drive/\""
      ],
      "execution_count": 0,
      "outputs": []
    },
    {
      "cell_type": "code",
      "metadata": {
        "id": "8of69aRakDCI",
        "colab_type": "code",
        "colab": {
          "base_uri": "https://localhost:8080/",
          "height": 52
        },
        "outputId": "9cfa23ea-c7c3-4882-e9ef-a57e5a856141"
      },
      "source": [
        "batch_size = 16\n",
        "\n",
        "# train_datagen = ImageDataGenerator(\n",
        "#     rescale = 1./255,\n",
        "#     rotation_range = 40,\n",
        "#     width_shift_range = 0.2,\n",
        "#     height_shift_range = 0.2,\n",
        "#     shear_range = 0.2,\n",
        "#     zoom_range = 0.2,\n",
        "#     horizontal_flip = True,\n",
        "#     fill_mode = 'nearest')\n",
        "\n",
        "train_datagen = ImageDataGenerator(rescale=1./255)\n",
        "\n",
        "test_datagen = ImageDataGenerator(rescale=1./255)\n",
        "\n",
        "# training_img = utils.io_utils.HDF5Matrix('../training_dataset.hdf5', 'train_img')\n",
        "\n",
        "train_generator = train_datagen.flow_from_directory(\n",
        "'/content/gdrive/My Drive/GANde/images/train/',\n",
        "target_size=(150, 150),\n",
        "batch_size=batch_size,\n",
        "class_mode='binary')\n",
        "\n",
        "validation_generator = test_datagen.flow_from_directory(\n",
        "'/content/gdrive/My Drive/GANde/images/validation/',\n",
        "target_size=(150,150),\n",
        "batch_size=batch_size,\n",
        "class_mode='binary')"
      ],
      "execution_count": 12,
      "outputs": [
        {
          "output_type": "stream",
          "text": [
            "Found 653 images belonging to 2 classes.\n",
            "Found 308 images belonging to 2 classes.\n"
          ],
          "name": "stdout"
        }
      ]
    },
    {
      "cell_type": "code",
      "metadata": {
        "id": "5H8C-59Jn9iu",
        "colab_type": "code",
        "colab": {}
      },
      "source": [
        ""
      ],
      "execution_count": 0,
      "outputs": []
    }
  ]
}